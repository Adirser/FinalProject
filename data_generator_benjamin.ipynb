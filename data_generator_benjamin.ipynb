{
 "cells": [
  {
   "cell_type": "code",
   "execution_count": 1,
   "metadata": {},
   "outputs": [
    {
     "name": "stderr",
     "output_type": "stream",
     "text": [
      "c:\\Users\\nati\\Desktop\\Implementations\\ImplementationsVenv\\lib\\site-packages\\tqdm\\auto.py:22: TqdmWarning: IProgress not found. Please update jupyter and ipywidgets. See https://ipywidgets.readthedocs.io/en/stable/user_install.html\n",
      "  from .autonotebook import tqdm as notebook_tqdm\n"
     ]
    }
   ],
   "source": [
    "import pandas as pd\n",
    "import numpy as np\n",
    "import matplotlib.pyplot as plt\n",
    "import matplotlib.dates as md\n",
    "# import seaborn as sns\n",
    "import random\n",
    "import os\n",
    "import sys\n",
    "import time\n",
    "import datetime\n",
    "from gretel_synthetics.timeseries_dgan.dgan import DGAN\n",
    "from gretel_synthetics.timeseries_dgan.config import DGANConfig,OutputType\n",
    "import glob\n",
    "import torch\n",
    "import torch.nn as nn\n",
    "import torch.nn.functional as F\n",
    "import torch.optim as optim\n",
    "from torch.utils.data import DataLoader,Dataset\n",
    "from sklearn.model_selection import train_test_split, StratifiedKFold, StratifiedShuffleSplit\n",
    "from sktime.datasets import load_from_ucr_tsv_to_dataframe\n",
    "from sktime.datasets import load_from_tsfile\n",
    "import neptune.new as neptune\n",
    "import datetime\n",
    "import uuid\n",
    "import pickle as pkl\n",
    "device = torch.device(\"cuda:0\" if torch.cuda.is_available() else \"cpu\")\n",
    "from InceptionTime import InceptionBlock,Inception,Reshape,Flatten\n"
   ]
  },
  {
   "cell_type": "code",
   "execution_count": 7,
   "metadata": {},
   "outputs": [],
   "source": [
    "# preprocessing steps:\n",
    "# 1. reading the data\n",
    "# 2. expanding dim \n",
    "# 3. convert target to numbers\n",
    "# 4. generate synthetic data. with control of the amount of original data that the generator model uses.\n",
    "# 5. save the generated data in folder structure \n",
    "X_train,y_train = load_from_tsfile(r\"C:\\Users\\nati\\Desktop\\Implementations\\FinalProject\\Datasets\\BasicMotions\\BasicMotions_TRAIN.ts\")\n",
    "X_test,y_test = load_from_tsfile(r\"C:\\Users\\nati\\Desktop\\Implementations\\FinalProject\\Datasets\\BasicMotions\\BasicMotions_TEST.ts\")"
   ]
  },
  {
   "cell_type": "code",
   "execution_count": 8,
   "metadata": {},
   "outputs": [],
   "source": [
    "def preprocess_dgan(df:pd.DataFrame,sequence_length:int):\n",
    "    df = df.copy(deep=True)\n",
    "    data = []\n",
    "    for row in df.iterrows():\n",
    "        for col in df.columns:\n",
    "            data.append([row[1][col]])\n",
    "    data = np.array(data)\n",
    "    data = data.reshape((df.shape[0], sequence_length, df.shape[1]))\n",
    "    return data"
   ]
  },
  {
   "cell_type": "code",
   "execution_count": 9,
   "metadata": {},
   "outputs": [],
   "source": [
    "X_train = preprocess_dgan(X_train,100)\n",
    "X_test= preprocess_dgan(X_test,100)\n",
    "\n"
   ]
  },
  {
   "cell_type": "code",
   "execution_count": 10,
   "metadata": {},
   "outputs": [],
   "source": [
    "class TimeSeriesDataset(Dataset):    \n",
    "    def __init__(self, X, y, transform=None, trarget_transform=None):\n",
    "        self.X = X \n",
    "        self.y = y\n",
    "        self.transform = transform\n",
    "        self.target_transform = trarget_transform\n",
    "        \n",
    "    def __len__(self):\n",
    "        return len(self.y)\n",
    "    \n",
    "    def __getitem__(self,idx):\n",
    "        X = self.X[idx]\n",
    "        y = self.y[idx]\n",
    "        if self.transform:\n",
    "            X = self.transform(X)\n",
    "        if self.target_transform:\n",
    "            y = self.target_transform(y)\n",
    "        return torch.tensor(X), torch.tensor(y)"
   ]
  },
  {
   "cell_type": "code",
   "execution_count": 11,
   "metadata": {},
   "outputs": [],
   "source": [
    "class LSTM_Classifier(nn.Module):\n",
    "    def __init__(self, input_dim=31, hidden_dim=256, num_layers=1, output_dim=5, dropout=0):\n",
    "        '''\n",
    "        input_dim = number of features at each time step \n",
    "        hidden_dim = number of features produced by each LSTM cell (in each layer)\n",
    "        num_layers = number of LSTM layers\n",
    "        output_dim = number of classes (number of activities)\n",
    "        '''\n",
    "        super().__init__()\n",
    "        self.hidden_dim = hidden_dim\n",
    "        self.num_layers = num_layers\n",
    "        self.lstm = nn.LSTM(input_size=input_dim, hidden_size=hidden_dim, \n",
    "                            num_layers=num_layers, batch_first=True, dropout=dropout)\n",
    "        self.fc = nn.Linear(hidden_dim, output_dim)\n",
    "        self.softmax = nn.Softmax(dim=1)\n",
    "        \n",
    "        \n",
    "    def forward(self, X):\n",
    "        _, (h_n, c_n) = self.lstm(X)  # (h_0, c_0) default to zeros\n",
    "        out = self.fc(h_n[-1,:,:])\n",
    "        out = self.softmax(out)\n",
    "        return out"
   ]
  },
  {
   "cell_type": "code",
   "execution_count": 12,
   "metadata": {},
   "outputs": [],
   "source": [
    "class GRU_Classifier(nn.Module):\n",
    "    def __init__(self, input_size, hidden_size, num_layers, num_classes):\n",
    "        super(GRU_Classifier, self).__init__()\n",
    "        self.hidden_size = hidden_size\n",
    "        self.num_layers = num_layers\n",
    "        self.gru = nn.GRU(input_size, hidden_size, num_layers, batch_first=True)\n",
    "        self.fc = nn.Linear(hidden_size, num_classes)\n",
    "        \n",
    "    def forward(self, x):\n",
    "        h0 = torch.zeros(self.num_layers, x.size(0), self.hidden_size).to(device=x.device)\n",
    "        out, _ = self.gru(x, h0.detach())\n",
    "        out = self.fc(out[:, -1, :])\n",
    "        return out\n",
    "    "
   ]
  },
  {
   "cell_type": "code",
   "execution_count": 14,
   "metadata": {},
   "outputs": [],
   "source": [
    "# Split the data into train and test sets\n",
    "def split_dataset_by_label(X, y):\n",
    "    splits = {}\n",
    "    unique_labels = np.unique(y)\n",
    "    for label in unique_labels:\n",
    "        splits[label] = {'X': np.array(X[y == label]), 'y': np.array(y[y == label])}\n",
    "    return splits\n",
    "\n",
    "def get_divisor(num:int):\n",
    "    divisors = []\n",
    "    for i in range(1, num + 1):\n",
    "        if num % i == 0:\n",
    "            divisors.append(i)\n",
    "    return divisors\n",
    "DGAN_param = {  'epochs': 1,\n",
    "                'attribute_noise_dim': 10,\n",
    "                'feature_noise_dim': 10, \n",
    "                'attribute_num_layers': 3, \n",
    "                'attribute_num_units': 100, \n",
    "                'feature_num_layers':  1, \n",
    "                'feature_num_units':100, \n",
    "                'use_attribute_discriminator': True, \n",
    "                'normalization': False, \n",
    "                'apply_feature_scaling': True, \n",
    "                'apply_example_scaling': True, \n",
    "                'binary_encoder_cutoff': 150, \n",
    "                'forget_bias': False, \n",
    "                'gradient_penalty_coef': 10.0, \n",
    "                'attribute_gradient_penalty_coef':10.0, \n",
    "                'attribute_loss_coef': 1.0, \n",
    "                'generator_learning_rate':  0.001, \n",
    "                'generator_beta1':  0.5, \n",
    "                'discriminator_learning_rate': 0.001, \n",
    "                'discriminator_beta1': 0.5, \n",
    "                'attribute_discriminator_learning_rate':  0.001, \n",
    "                'attribute_discriminator_beta1': 0.5, \n",
    "                'batch_size':  1024, \n",
    "                'discriminator_rounds': 1, \n",
    "                'generator_rounds': 1,\n",
    "                'mixed_precision_training': False}\n",
    "def train_dgan(data:np.ndarray, DGAN_param:dict, Experiment_param:dict):\n",
    "    run = neptune.init_run(\n",
    "    project=\"astarteam/FinalProject\",\n",
    "    api_token=\"eyJhcGlfYWRkcmVzcyI6Imh0dHBzOi8vYXBwLm5lcHR1bmUuYWkiLCJhcGlfdXJsIjoiaHR0cHM6Ly9hcHAubmVwdHVuZS5haSIsImFwaV9rZXkiOiJhMDI5YzIxMy00NjE1LTQ2MDUtOTk3NS1jNDJhMjIzZDE0NDMifQ==\",\n",
    "    )  # your credentialscredentials\n",
    "\n",
    "    run['Experiment_param'] = Experiment_param\n",
    "    run[\"DGAN_param\"] = DGAN_param\n",
    "\n",
    "    model = DGAN(DGANConfig(\n",
    "        max_sequence_len=data.shape[1],\n",
    "        sample_len=random.choice(get_divisor(data.shape[1])[-3:]), \n",
    "        batch_size=min(1000, data.shape[0]),\n",
    "        apply_feature_scaling=DGAN_param['apply_feature_scaling'],\n",
    "        apply_example_scaling=DGAN_param['apply_example_scaling'],\n",
    "        use_attribute_discriminator=DGAN_param['use_attribute_discriminator'],\n",
    "        generator_learning_rate=DGAN_param['generator_learning_rate'],\n",
    "        discriminator_learning_rate=DGAN_param['discriminator_learning_rate'],\n",
    "        epochs=DGAN_param['epochs'],\n",
    "        gradient_penalty_coef = DGAN_param['gradient_penalty_coef'],\n",
    "    ))\n",
    "\n",
    "    model.train_numpy(\n",
    "        data,\n",
    "        feature_types=[OutputType.CONTINUOUS] * data.shape[2],\n",
    "    )\n",
    "    time.sleep(2)\n",
    "    run.stop()\n",
    "    return model\n",
    "\n",
    "def train_generator_per_label(splitted_data:pd.DataFrame, DGAN_param:dict, Experiment_param:dict):\n",
    "    models = {}\n",
    "    for label in splitted_data.keys():\n",
    "        print(f\"Training generator for label {label}\")\n",
    "        X = splitted_data[label]['X']\n",
    "        DGAN_param['label'] = label\n",
    "        model = train_dgan(X, DGAN_param, Experiment_param)\n",
    "        models[label] = model\n",
    "    return models\n",
    "\n",
    "def generate_data_per_label(models, num_samples, Experiment_param):\n",
    "    generated_data = {}\n",
    "    for label in models.keys():\n",
    "        print(f\"Generating data for label {label}\")\n",
    "        generated_data[label] = models[label].generate_numpy(num_samples)[1]\n",
    "    concatenated_data = {'X':np.concatenate([generated_data[label] for label in generated_data.keys()]),\n",
    "                'y':np.concatenate([np.array([label]*num_samples) for label in generated_data.keys()])}\n",
    "    np.save(f'''dataset/{Experiment_param['Dataset name']}/{Experiment_param['Experiment_id']}''', concatenated_data)\n",
    "    # df.to_csv(f'''dataset/{DGAN_param['Dataset name']}/{DGAN_param['Experiment_id']}.csv''', index=False)\n",
    "    return generated_data,concatenated_data\n",
    "\n",
    "def create_data_loaders(X,y,n_splits:int = 1, validation_size:float=0.2):\n",
    "    ssf = StratifiedShuffleSplit(n_splits=n_splits, test_size=validation_size)\n",
    "    train_ind, test_ind = next(ssf.split(X,y))\n",
    "    train_dataloader = DataLoader(TimeSeriesDataset(X[train_ind],y[train_ind]),batch_size=20,shuffle=True)\n",
    "    validation_dataloader = DataLoader(TimeSeriesDataset(X[test_ind],y[test_ind]),batch_size=20,shuffle=True)\n",
    "    return train_dataloader, validation_dataloader\n",
    "\n",
    "def map_label_int(y):    \n",
    "    label_to_int = {label: i for i, label in enumerate(np.unique(y))}\n",
    "    int_to_label = {i: label for label, i in label_to_int.items()}\n",
    "    y_int = np.array([label_to_int[label] for label in y])\n",
    "    return label_to_int, int_to_label, y_int\n",
    "\n",
    "def train_loop(data_loader, model,device,loss_fn,optimizer,print_every_n=200):\n",
    "    model.train()\n",
    "    size = len(data_loader.dataset)\n",
    "    num_batches = len(data_loader)\n",
    "    train_loss=0\n",
    "    tp=0\n",
    "    for batch,(X,y) in enumerate(data_loader):\n",
    "        X = X.to(device)\n",
    "        y = y.type(torch.LongTensor)\n",
    "        y = y.to(device)\n",
    "        pred = model(X.float())\n",
    "        # print(f'Preds : {pred.argmax(1)}')\n",
    "        # print(f'GT : {y}')\n",
    "        loss = loss_fn(pred,y)\n",
    "        train_loss += loss\n",
    "        tp += (y==pred.argmax(1)).type(torch.float).sum().item()\n",
    "        optimizer.zero_grad()\n",
    "        loss.backward()\n",
    "        optimizer.step()\n",
    "        loss, current = loss.item(), batch*len(X)\n",
    "        if batch%print_every_n==0:\n",
    "            print(f'loss={loss:.3f}, {current} / {size}')\n",
    "\n",
    "    train_loss /= num_batches\n",
    "    train_acc = tp/size    \n",
    "    print(f'train accuracy = {train_acc}, val_loss = {train_loss:2f}')\n",
    "    return train_loss,train_acc\n",
    "\n",
    "def validation_loop(data_loader,model,device,loss_fn):\n",
    "    model.eval()\n",
    "    size=len(data_loader.dataset)\n",
    "    num_batches = len(data_loader)\n",
    "    val_loss=0\n",
    "    tp=0\n",
    "    with torch.no_grad():\n",
    "        for X,y in data_loader:\n",
    "            X = X.to(device)\n",
    "            y = y.type(torch.LongTensor)\n",
    "            y = y.to(device)\n",
    "            pred = model(X.float())\n",
    "            val_loss += loss_fn(pred,y).item()\n",
    "            tp += (y==pred.argmax(1)).type(torch.float).sum().item()\n",
    "        \n",
    "    val_loss /= num_batches\n",
    "    val_acc = tp/size\n",
    "    print(f'validation accuracy = {val_acc}, val_loss = {val_loss:2f}')\n",
    "    return val_loss,val_acc"
   ]
  },
  {
   "cell_type": "code",
   "execution_count": 15,
   "metadata": {},
   "outputs": [
    {
     "name": "stdout",
     "output_type": "stream",
     "text": [
      "Training generator for label badminton\n",
      "https://app.neptune.ai/astarteam/FinalProject/e/FIN-111\n",
      "Remember to stop your run once you’ve finished logging your metadata (https://docs.neptune.ai/api/run#stop). It will be stopped automatically only when the notebook kernel/interactive console is terminated.\n"
     ]
    },
    {
     "ename": "ValueError",
     "evalue": "multiprocessing_context option should specify a valid start method in ['spawn'], but got multiprocessing_context='fork'",
     "output_type": "error",
     "traceback": [
      "\u001b[1;31m---------------------------------------------------------------------------\u001b[0m",
      "\u001b[1;31mValueError\u001b[0m                                Traceback (most recent call last)",
      "Cell \u001b[1;32mIn[15], line 35\u001b[0m\n\u001b[0;32m      3\u001b[0m Experiment_param \u001b[39m=\u001b[39m{\u001b[39m'\u001b[39m\u001b[39mexperiment state\u001b[39m\u001b[39m'\u001b[39m:\u001b[39m'\u001b[39m\u001b[39mdata generation\u001b[39m\u001b[39m'\u001b[39m,\n\u001b[0;32m      4\u001b[0m                 \u001b[39m'\u001b[39m\u001b[39mExperiment_id\u001b[39m\u001b[39m'\u001b[39m: \u001b[39mf\u001b[39m\u001b[39m'\u001b[39m\u001b[39m{\u001b[39;00mdatetime\u001b[39m.\u001b[39mdatetime\u001b[39m.\u001b[39mnow()\u001b[39m.\u001b[39mstrftime(\u001b[39m\"\u001b[39m\u001b[39m%\u001b[39m\u001b[39mY-\u001b[39m\u001b[39m%\u001b[39m\u001b[39mm-\u001b[39m\u001b[39m%d\u001b[39;00m\u001b[39m_\u001b[39m\u001b[39m%\u001b[39m\u001b[39mH-\u001b[39m\u001b[39m%\u001b[39m\u001b[39mM-\u001b[39m\u001b[39m%\u001b[39m\u001b[39mS\u001b[39m\u001b[39m\"\u001b[39m)\u001b[39m}\u001b[39;00m\u001b[39m_\u001b[39m\u001b[39m{\u001b[39;00muuid\u001b[39m.\u001b[39muuid4()\u001b[39m.\u001b[39mhex\u001b[39m}\u001b[39;00m\u001b[39m'\u001b[39m,\n\u001b[0;32m      5\u001b[0m                 \u001b[39m'\u001b[39m\u001b[39mDataset name\u001b[39m\u001b[39m'\u001b[39m:\u001b[39m'\u001b[39m\u001b[39mBasicMotions\u001b[39m\u001b[39m'\u001b[39m, \u001b[39m# Dataset name most be as generated dataset dir name. it will be used while saving the generated data  \u001b[39;00m\n\u001b[0;32m      6\u001b[0m                 \u001b[39m'\u001b[39m\u001b[39musage of original data\u001b[39m\u001b[39m'\u001b[39m: \u001b[39m80\u001b[39m, }\n\u001b[0;32m      8\u001b[0m DGAN_param \u001b[39m=\u001b[39m {  \u001b[39m'\u001b[39m\u001b[39mepochs\u001b[39m\u001b[39m'\u001b[39m: \u001b[39m1\u001b[39m,\n\u001b[0;32m      9\u001b[0m                 \u001b[39m'\u001b[39m\u001b[39mattribute_noise_dim\u001b[39m\u001b[39m'\u001b[39m: \u001b[39m10\u001b[39m,\n\u001b[0;32m     10\u001b[0m                 \u001b[39m'\u001b[39m\u001b[39mfeature_noise_dim\u001b[39m\u001b[39m'\u001b[39m: \u001b[39m10\u001b[39m, \n\u001b[1;32m   (...)\u001b[0m\n\u001b[0;32m     32\u001b[0m                 \u001b[39m'\u001b[39m\u001b[39mgenerator_rounds\u001b[39m\u001b[39m'\u001b[39m: \u001b[39m1\u001b[39m,\n\u001b[0;32m     33\u001b[0m                 \u001b[39m'\u001b[39m\u001b[39mmixed_precision_training\u001b[39m\u001b[39m'\u001b[39m: \u001b[39mFalse\u001b[39;00m}\n\u001b[1;32m---> 35\u001b[0m models \u001b[39m=\u001b[39m train_generator_per_label(split_data, DGAN_param, Experiment_param)\n\u001b[0;32m     36\u001b[0m generated_data,concatenated_data \u001b[39m=\u001b[39m generate_data_per_label(models, \u001b[39m20\u001b[39m, DGAN_param, Experiment_param)\n\u001b[0;32m     37\u001b[0m label_to_int, int_to_label, concatenated_data[\u001b[39m'\u001b[39m\u001b[39my\u001b[39m\u001b[39m'\u001b[39m] \u001b[39m=\u001b[39m map_label_int(concatenated_data[\u001b[39m'\u001b[39m\u001b[39my\u001b[39m\u001b[39m'\u001b[39m])\n",
      "Cell \u001b[1;32mIn[14], line 77\u001b[0m, in \u001b[0;36mtrain_generator_per_label\u001b[1;34m(splitted_data, DGAN_param, Experiment_param)\u001b[0m\n\u001b[0;32m     75\u001b[0m     X \u001b[39m=\u001b[39m splitted_data[label][\u001b[39m'\u001b[39m\u001b[39mX\u001b[39m\u001b[39m'\u001b[39m]\n\u001b[0;32m     76\u001b[0m     DGAN_param[\u001b[39m'\u001b[39m\u001b[39mlabel\u001b[39m\u001b[39m'\u001b[39m] \u001b[39m=\u001b[39m label\n\u001b[1;32m---> 77\u001b[0m     model \u001b[39m=\u001b[39m train_dgan(X, DGAN_param, Experiment_param)\n\u001b[0;32m     78\u001b[0m     models[label] \u001b[39m=\u001b[39m model\n\u001b[0;32m     79\u001b[0m \u001b[39mreturn\u001b[39;00m models\n",
      "Cell \u001b[1;32mIn[14], line 63\u001b[0m, in \u001b[0;36mtrain_dgan\u001b[1;34m(data, DGAN_param, Experiment_param)\u001b[0m\n\u001b[0;32m     48\u001b[0m run[\u001b[39m\"\u001b[39m\u001b[39mDGAN_param\u001b[39m\u001b[39m\"\u001b[39m] \u001b[39m=\u001b[39m DGAN_param\n\u001b[0;32m     50\u001b[0m model \u001b[39m=\u001b[39m DGAN(DGANConfig(\n\u001b[0;32m     51\u001b[0m     max_sequence_len\u001b[39m=\u001b[39mdata\u001b[39m.\u001b[39mshape[\u001b[39m1\u001b[39m],\n\u001b[0;32m     52\u001b[0m     sample_len\u001b[39m=\u001b[39mrandom\u001b[39m.\u001b[39mchoice(get_divisor(data\u001b[39m.\u001b[39mshape[\u001b[39m1\u001b[39m])[\u001b[39m-\u001b[39m\u001b[39m3\u001b[39m:]), \n\u001b[1;32m   (...)\u001b[0m\n\u001b[0;32m     60\u001b[0m     gradient_penalty_coef \u001b[39m=\u001b[39m DGAN_param[\u001b[39m'\u001b[39m\u001b[39mgradient_penalty_coef\u001b[39m\u001b[39m'\u001b[39m],\n\u001b[0;32m     61\u001b[0m ))\n\u001b[1;32m---> 63\u001b[0m model\u001b[39m.\u001b[39;49mtrain_numpy(\n\u001b[0;32m     64\u001b[0m     data,\n\u001b[0;32m     65\u001b[0m     feature_types\u001b[39m=\u001b[39;49m[OutputType\u001b[39m.\u001b[39;49mCONTINUOUS] \u001b[39m*\u001b[39;49m data\u001b[39m.\u001b[39;49mshape[\u001b[39m2\u001b[39;49m],\n\u001b[0;32m     66\u001b[0m )\n\u001b[0;32m     67\u001b[0m time\u001b[39m.\u001b[39msleep(\u001b[39m2\u001b[39m)\n\u001b[0;32m     68\u001b[0m run\u001b[39m.\u001b[39mstop()\n",
      "File \u001b[1;32mc:\\Users\\nati\\Desktop\\Implementations\\ImplementationsVenv\\lib\\site-packages\\gretel_synthetics\\timeseries_dgan\\dgan.py:309\u001b[0m, in \u001b[0;36mDGAN.train_numpy\u001b[1;34m(self, features, feature_types, attributes, attribute_types, progress_callback)\u001b[0m\n\u001b[0;32m    301\u001b[0m     \u001b[39mraise\u001b[39;00m \u001b[39mValueError\u001b[39;00m(\u001b[39mf\u001b[39m\u001b[39m\"\u001b[39m\u001b[39mNaN found in internal attributes. \u001b[39m\u001b[39m{\u001b[39;00mNAN_ERROR_MESSAGE\u001b[39m}\u001b[39;00m\u001b[39m\"\u001b[39m)\n\u001b[0;32m    303\u001b[0m dataset \u001b[39m=\u001b[39m TensorDataset(\n\u001b[0;32m    304\u001b[0m     torch\u001b[39m.\u001b[39mTensor(internal_attributes),\n\u001b[0;32m    305\u001b[0m     torch\u001b[39m.\u001b[39mTensor(internal_additional_attributes),\n\u001b[0;32m    306\u001b[0m     torch\u001b[39m.\u001b[39mTensor(internal_features),\n\u001b[0;32m    307\u001b[0m )\n\u001b[1;32m--> 309\u001b[0m \u001b[39mself\u001b[39;49m\u001b[39m.\u001b[39;49m_train(dataset, progress_callback\u001b[39m=\u001b[39;49mprogress_callback)\n",
      "File \u001b[1;32mc:\\Users\\nati\\Desktop\\Implementations\\ImplementationsVenv\\lib\\site-packages\\gretel_synthetics\\timeseries_dgan\\dgan.py:652\u001b[0m, in \u001b[0;36mDGAN._train\u001b[1;34m(self, dataset, progress_callback)\u001b[0m\n\u001b[0;32m    647\u001b[0m \u001b[39m# Our optimization setup does not work on batches of size 1. So if\u001b[39;00m\n\u001b[0;32m    648\u001b[0m \u001b[39m# drop_last=False would produce a last batch of size of 1, we use\u001b[39;00m\n\u001b[0;32m    649\u001b[0m \u001b[39m# drop_last=True instead.\u001b[39;00m\n\u001b[0;32m    650\u001b[0m drop_last \u001b[39m=\u001b[39m \u001b[39mlen\u001b[39m(dataset) \u001b[39m%\u001b[39m \u001b[39mself\u001b[39m\u001b[39m.\u001b[39mconfig\u001b[39m.\u001b[39mbatch_size \u001b[39m==\u001b[39m \u001b[39m1\u001b[39m\n\u001b[1;32m--> 652\u001b[0m loader \u001b[39m=\u001b[39m DataLoader(\n\u001b[0;32m    653\u001b[0m     dataset,\n\u001b[0;32m    654\u001b[0m     \u001b[39mself\u001b[39;49m\u001b[39m.\u001b[39;49mconfig\u001b[39m.\u001b[39;49mbatch_size,\n\u001b[0;32m    655\u001b[0m     shuffle\u001b[39m=\u001b[39;49m\u001b[39mTrue\u001b[39;49;00m,\n\u001b[0;32m    656\u001b[0m     drop_last\u001b[39m=\u001b[39;49mdrop_last,\n\u001b[0;32m    657\u001b[0m     num_workers\u001b[39m=\u001b[39;49m\u001b[39m2\u001b[39;49m,\n\u001b[0;32m    658\u001b[0m     prefetch_factor\u001b[39m=\u001b[39;49m\u001b[39m4\u001b[39;49m,\n\u001b[0;32m    659\u001b[0m     persistent_workers\u001b[39m=\u001b[39;49m\u001b[39mTrue\u001b[39;49;00m,\n\u001b[0;32m    660\u001b[0m     pin_memory\u001b[39m=\u001b[39;49m\u001b[39mTrue\u001b[39;49;00m,\n\u001b[0;32m    661\u001b[0m     multiprocessing_context\u001b[39m=\u001b[39;49m\u001b[39m\"\u001b[39;49m\u001b[39mfork\u001b[39;49m\u001b[39m\"\u001b[39;49m,\n\u001b[0;32m    662\u001b[0m )\n\u001b[0;32m    664\u001b[0m opt_discriminator \u001b[39m=\u001b[39m torch\u001b[39m.\u001b[39moptim\u001b[39m.\u001b[39mAdam(\n\u001b[0;32m    665\u001b[0m     \u001b[39mself\u001b[39m\u001b[39m.\u001b[39mfeature_discriminator\u001b[39m.\u001b[39mparameters(),\n\u001b[0;32m    666\u001b[0m     lr\u001b[39m=\u001b[39m\u001b[39mself\u001b[39m\u001b[39m.\u001b[39mconfig\u001b[39m.\u001b[39mdiscriminator_learning_rate,\n\u001b[0;32m    667\u001b[0m     betas\u001b[39m=\u001b[39m(\u001b[39mself\u001b[39m\u001b[39m.\u001b[39mconfig\u001b[39m.\u001b[39mdiscriminator_beta1, \u001b[39m0.999\u001b[39m),\n\u001b[0;32m    668\u001b[0m )\n\u001b[0;32m    670\u001b[0m opt_attribute_discriminator \u001b[39m=\u001b[39m \u001b[39mNone\u001b[39;00m\n",
      "File \u001b[1;32mc:\\Users\\nati\\Desktop\\Implementations\\ImplementationsVenv\\lib\\site-packages\\torch\\utils\\data\\dataloader.py:255\u001b[0m, in \u001b[0;36mDataLoader.__init__\u001b[1;34m(self, dataset, batch_size, shuffle, sampler, batch_sampler, num_workers, collate_fn, pin_memory, drop_last, timeout, worker_init_fn, multiprocessing_context, generator, prefetch_factor, persistent_workers, pin_memory_device)\u001b[0m\n\u001b[0;32m    253\u001b[0m \u001b[39mself\u001b[39m\u001b[39m.\u001b[39mtimeout \u001b[39m=\u001b[39m timeout\n\u001b[0;32m    254\u001b[0m \u001b[39mself\u001b[39m\u001b[39m.\u001b[39mworker_init_fn \u001b[39m=\u001b[39m worker_init_fn\n\u001b[1;32m--> 255\u001b[0m \u001b[39mself\u001b[39;49m\u001b[39m.\u001b[39;49mmultiprocessing_context \u001b[39m=\u001b[39m multiprocessing_context\n\u001b[0;32m    257\u001b[0m \u001b[39m# Adds forward compatibilities so classic DataLoader can work with DataPipes:\u001b[39;00m\n\u001b[0;32m    258\u001b[0m \u001b[39m#   _DataPipeSerializationWrapper container makes it easier to serialize without redefining pickler\u001b[39;00m\n\u001b[0;32m    259\u001b[0m \u001b[39mif\u001b[39;00m \u001b[39misinstance\u001b[39m(\u001b[39mself\u001b[39m\u001b[39m.\u001b[39mdataset, IterDataPipe):\n",
      "File \u001b[1;32mc:\\Users\\nati\\Desktop\\Implementations\\ImplementationsVenv\\lib\\site-packages\\torch\\utils\\data\\dataloader.py:418\u001b[0m, in \u001b[0;36mDataLoader.__setattr__\u001b[1;34m(self, attr, val)\u001b[0m\n\u001b[0;32m    413\u001b[0m \u001b[39mif\u001b[39;00m \u001b[39mself\u001b[39m\u001b[39m.\u001b[39m__initialized \u001b[39mand\u001b[39;00m attr \u001b[39min\u001b[39;00m (\n\u001b[0;32m    414\u001b[0m         \u001b[39m'\u001b[39m\u001b[39mbatch_size\u001b[39m\u001b[39m'\u001b[39m, \u001b[39m'\u001b[39m\u001b[39mbatch_sampler\u001b[39m\u001b[39m'\u001b[39m, \u001b[39m'\u001b[39m\u001b[39msampler\u001b[39m\u001b[39m'\u001b[39m, \u001b[39m'\u001b[39m\u001b[39mdrop_last\u001b[39m\u001b[39m'\u001b[39m, \u001b[39m'\u001b[39m\u001b[39mdataset\u001b[39m\u001b[39m'\u001b[39m, \u001b[39m'\u001b[39m\u001b[39mpersistent_workers\u001b[39m\u001b[39m'\u001b[39m):\n\u001b[0;32m    415\u001b[0m     \u001b[39mraise\u001b[39;00m \u001b[39mValueError\u001b[39;00m(\u001b[39m'\u001b[39m\u001b[39m{}\u001b[39;00m\u001b[39m attribute should not be set after \u001b[39m\u001b[39m{}\u001b[39;00m\u001b[39m is \u001b[39m\u001b[39m'\u001b[39m\n\u001b[0;32m    416\u001b[0m                      \u001b[39m'\u001b[39m\u001b[39minitialized\u001b[39m\u001b[39m'\u001b[39m\u001b[39m.\u001b[39mformat(attr, \u001b[39mself\u001b[39m\u001b[39m.\u001b[39m\u001b[39m__class__\u001b[39m\u001b[39m.\u001b[39m\u001b[39m__name__\u001b[39m))\n\u001b[1;32m--> 418\u001b[0m \u001b[39msuper\u001b[39;49m(DataLoader, \u001b[39mself\u001b[39;49m)\u001b[39m.\u001b[39;49m\u001b[39m__setattr__\u001b[39;49m(attr, val)\n",
      "File \u001b[1;32mc:\\Users\\nati\\Desktop\\Implementations\\ImplementationsVenv\\lib\\site-packages\\torch\\utils\\data\\dataloader.py:394\u001b[0m, in \u001b[0;36mDataLoader.multiprocessing_context\u001b[1;34m(self, multiprocessing_context)\u001b[0m\n\u001b[0;32m    392\u001b[0m valid_start_methods \u001b[39m=\u001b[39m multiprocessing\u001b[39m.\u001b[39mget_all_start_methods()\n\u001b[0;32m    393\u001b[0m \u001b[39mif\u001b[39;00m multiprocessing_context \u001b[39mnot\u001b[39;00m \u001b[39min\u001b[39;00m valid_start_methods:\n\u001b[1;32m--> 394\u001b[0m     \u001b[39mraise\u001b[39;00m \u001b[39mValueError\u001b[39;00m(\n\u001b[0;32m    395\u001b[0m         (\u001b[39m'\u001b[39m\u001b[39mmultiprocessing_context option \u001b[39m\u001b[39m'\u001b[39m\n\u001b[0;32m    396\u001b[0m          \u001b[39m'\u001b[39m\u001b[39mshould specify a valid start method in \u001b[39m\u001b[39m{!r}\u001b[39;00m\u001b[39m, but got \u001b[39m\u001b[39m'\u001b[39m\n\u001b[0;32m    397\u001b[0m          \u001b[39m'\u001b[39m\u001b[39mmultiprocessing_context=\u001b[39m\u001b[39m{!r}\u001b[39;00m\u001b[39m'\u001b[39m)\u001b[39m.\u001b[39mformat(valid_start_methods, multiprocessing_context))\n\u001b[0;32m    398\u001b[0m \u001b[39m# error: Argument 1 to \"get_context\" has incompatible type \"Union[str, bytes]\"; expected \"str\"  [arg-type]\u001b[39;00m\n\u001b[0;32m    399\u001b[0m multiprocessing_context \u001b[39m=\u001b[39m multiprocessing\u001b[39m.\u001b[39mget_context(multiprocessing_context)  \u001b[39m# type: ignore[arg-type]\u001b[39;00m\n",
      "\u001b[1;31mValueError\u001b[0m: multiprocessing_context option should specify a valid start method in ['spawn'], but got multiprocessing_context='fork'"
     ]
    }
   ],
   "source": [
    "split_data = split_dataset_by_label(X_train,y_train)\n",
    "# TODO: add params to train generator so we can track the dataset generating process  \n",
    "Experiment_param ={'experiment state':'data generation',\n",
    "                'Experiment_id': f'{datetime.datetime.now().strftime(\"%Y-%m-%d_%H-%M-%S\")}_{uuid.uuid4().hex}',\n",
    "                'Dataset name':'BasicMotions', # Dataset name most be as generated dataset dir name. it will be used while saving the generated data  \n",
    "                'usage of original data': 80, }\n",
    "\n",
    "DGAN_param = {  'epochs': 1,\n",
    "                'attribute_noise_dim': 10,\n",
    "                'feature_noise_dim': 10, \n",
    "                'attribute_num_layers': 3, \n",
    "                'attribute_num_units': 100, \n",
    "                'feature_num_layers':  1, \n",
    "                'feature_num_units':100, \n",
    "                'use_attribute_discriminator': True, \n",
    "                'normalization': False, \n",
    "                'apply_feature_scaling': True, \n",
    "                'apply_example_scaling': True, \n",
    "                'binary_encoder_cutoff': 150, \n",
    "                'forget_bias': False, \n",
    "                'gradient_penalty_coef': 10.0, \n",
    "                'attribute_gradient_penalty_coef':10.0, \n",
    "                'attribute_loss_coef': 1.0, \n",
    "                'generator_learning_rate':  0.001, \n",
    "                'generator_beta1':  0.5, \n",
    "                'discriminator_learning_rate': 0.001, \n",
    "                'discriminator_beta1': 0.5, \n",
    "                'attribute_discriminator_learning_rate':  0.001, \n",
    "                'attribute_discriminator_beta1': 0.5, \n",
    "                'batch_size':  1024, \n",
    "                'discriminator_rounds': 1, \n",
    "                'generator_rounds': 1,\n",
    "                'mixed_precision_training': False}\n",
    "\n",
    "models = train_generator_per_label(split_data, DGAN_param, Experiment_param)\n",
    "generated_data,concatenated_data = generate_data_per_label(models, 20, DGAN_param, Experiment_param)\n",
    "label_to_int, int_to_label, concatenated_data['y'] = map_label_int(concatenated_data['y'])\n",
    "train_dataloader, validation_dataloader = create_data_loaders(concatenated_data['X'],concatenated_data['y'],n_splits=1, validation_size=0.2)"
   ]
  },
  {
   "cell_type": "code",
   "execution_count": 2,
   "metadata": {},
   "outputs": [
    {
     "name": "stdout",
     "output_type": "stream",
     "text": [
      "Database Host: localhost\n",
      "Database Port: 5432\n",
      "Log Level: INFO\n",
      "Max Retries: 5\n"
     ]
    }
   ],
   "source": [
    "import yaml\n",
    "\n",
    "def read_yaml_config(file_path):\n",
    "    with open(file_path, 'r') as file:\n",
    "        try:\n",
    "            config = yaml.safe_load(file)\n",
    "            return config\n",
    "        except yaml.YAMLError as exc:\n",
    "            print(exc)\n",
    "            return None\n",
    "\n",
    "config_path = 'config.yaml'\n",
    "config_data = read_yaml_config(config_path)\n",
    "\n",
    "if config_data:\n",
    "    print(\"Database Host:\", config_data['database']['host'])\n",
    "    print(\"Database Port:\", config_data['database']['port'])\n",
    "    print(\"Log Level:\", config_data['settings']['log_level'])\n",
    "    print(\"Max Retries:\", config_data['settings']['max_retries'])\n"
   ]
  },
  {
   "cell_type": "code",
   "execution_count": 23,
   "metadata": {},
   "outputs": [],
   "source": [
    "output_dim = len(np.unique(y))\n",
    "lr = 0.001\n",
    "best_acc = 0\n",
    "best_loss = np.inf\n",
    "model = GRU_Classifier(input_size=6, hidden_size=64, num_layers=2, num_classes=4)\n",
    "model.to(device)\n",
    "criterion = nn.CrossEntropyLoss()\n",
    "optimizer = torch.optim.Adam(model.parameters(), lr=0.001)\n",
    "save_each_epoch = True"
   ]
  },
  {
   "cell_type": "code",
   "execution_count": 205,
   "metadata": {},
   "outputs": [],
   "source": [
    "output_dim = len(np.unique(y))\n",
    "lr = 0.001\n",
    "best_acc = 0\n",
    "best_loss = np.inf\n",
    "model = LSTM_Classifier(num_layers=2,input_dim = 6,hidden_dim=64,output_dim=output_dim,dropout=0.3)\n",
    "model.to(device)\n",
    "criterion = nn.CrossEntropyLoss()\n",
    "optimizer = torch.optim.Adam(model.parameters(), lr=lr)\n",
    "save_each_epoch = True\n",
    "Experiment_param['model type'] = 'LSTM' # model type: LSTM, GRU, inception time, transformer\n",
    "run_param = {\"epochs\": 20,\n",
    "            \"patience\":5,\n",
    "            \"batch_size\": 20,\n",
    "            \"learning_rate\": lr, \n",
    "            \"criterion\":\"CrossEntropyLoss\",\n",
    "            \"optimizer\": \"Adam\"}"
   ]
  },
  {
   "cell_type": "code",
   "execution_count": 14,
   "metadata": {},
   "outputs": [],
   "source": [
    "def train_and_log(epochs,patience,train_dataloader,validation_dataloader,model,device,criterion,optimizer,save_each_epoch, run_param,Experiment_param):\n",
    "    run = neptune.init_run(\n",
    "    project=\"astarteam/FinalProject\",\n",
    "    api_token=\"eyJhcGlfYWRkcmVzcyI6Imh0dHBzOi8vYXBwLm5lcHR1bmUuYWkiLCJhcGlfdXJsIjoiaHR0cHM6Ly9hcHAubmVwdHVuZS5haSIsImFwaV9rZXkiOiJhMDI5YzIxMy00NjE1LTQ2MDUtOTk3NS1jNDJhMjIzZDE0NDMifQ==\",\n",
    ")  # your credentialscredentials\n",
    "\n",
    "    run[\"parameters\"] = run_param\n",
    "    Experiment_param['experiment state'] = 'pretraining'\n",
    "    run['Experiment_param'] = Experiment_param\n",
    "\n",
    "\n",
    "    \n",
    "    best_loss = np.inf\n",
    "    # define the number of epochs and early stopping patience\n",
    "    for epoch in range(epochs):\n",
    "        #Train\n",
    "        train_loss, train_acc = train_loop(train_dataloader, model, device, criterion, optimizer)\n",
    "        run[\"train/accuracy\"].log(train_acc)\n",
    "        run[\"train/loss\"].log(train_loss)\n",
    "        #Evaluate\n",
    "        val_loss, val_acc = validation_loop(validation_dataloader, model, device, criterion)\n",
    "        run[\"validation/accuracy\"].log(val_acc)\n",
    "        run[\"validation/loss\"].log(val_loss)\n",
    "\n",
    "        if val_loss < best_loss:\n",
    "            best_loss = val_loss\n",
    "            early_stopping_counter = 0\n",
    "            if save_each_epoch:\n",
    "                torch.save(model.state_dict(),f'model_{epoch}.pt')\n",
    "        # otherwise, increment the early stopping counter\n",
    "        else:\n",
    "            early_stopping_counter += 1     \n",
    "        # if the early stopping counter has reached the patience, stop training\n",
    "        if early_stopping_counter == patience:\n",
    "            break\n",
    "    time.sleep(2)\n",
    "    print(\"Finished Training and validation, now uploading to Neptune.\")\n",
    "    run.stop()"
   ]
  },
  {
   "cell_type": "code",
   "execution_count": null,
   "metadata": {},
   "outputs": [],
   "source": [
    "train_and_log(30,5,train_dataloader,validation_dataloader,model,device,criterion,optimizer,save_each_epoch)"
   ]
  },
  {
   "cell_type": "code",
   "execution_count": null,
   "metadata": {},
   "outputs": [],
   "source": [
    "label_to_int, int_to_label, y = map_label_int(y)\n",
    "og_train_dataloader, og_validation_dataloader = create_data_loaders(X,y,n_splits=1, validation_size=0.4)\n",
    "train_and_log(10,5,og_train_dataloader,og_validation_dataloader,model,device,criterion,optimizer,save_each_epoch)"
   ]
  },
  {
   "cell_type": "code",
   "execution_count": 218,
   "metadata": {},
   "outputs": [],
   "source": [
    "#Regular Training\n",
    "output_dim = len(np.unique(y))\n",
    "lr = 0.001\n",
    "best_acc = 0\n",
    "device = torch.device(\"cuda:0\" if torch.cuda.is_available() else \"cpu\")\n",
    "best_loss = np.inf\n",
    "model = LSTM_Classifier(num_layers=2,input_dim = 6,hidden_dim=64,output_dim=output_dim,dropout=0.3)\n",
    "model = model\n",
    "model.to(device)\n",
    "criterion = nn.CrossEntropyLoss()\n",
    "optimizer = torch.optim.Adam(model.parameters(), lr=lr)\n",
    "save_each_epoch = True\n"
   ]
  },
  {
   "cell_type": "code",
   "execution_count": null,
   "metadata": {},
   "outputs": [],
   "source": [
    "label_to_int, int_to_label, y = map_label_int(y)\n",
    "og_train_dataloader, og_validation_dataloader = create_data_loaders(X,y,n_splits=1, validation_size=0.4)\n",
    "train_and_log(25,25,og_train_dataloader,og_validation_dataloader,model,device,criterion,optimizer,save_each_epoch)"
   ]
  },
  {
   "cell_type": "code",
   "execution_count": 53,
   "metadata": {},
   "outputs": [
    {
     "data": {
      "text/plain": [
       "(40, 100, 6)"
      ]
     },
     "execution_count": 53,
     "metadata": {},
     "output_type": "execute_result"
    }
   ],
   "source": [
    "# Fine Tune\n",
    "X.shape"
   ]
  },
  {
   "cell_type": "code",
   "execution_count": 73,
   "metadata": {},
   "outputs": [
    {
     "data": {
      "text/plain": [
       "['dataset\\\\BasicMotions_TEST.ts', 'dataset\\\\BasicMotions_TRAIN.ts']"
      ]
     },
     "execution_count": 73,
     "metadata": {},
     "output_type": "execute_result"
    }
   ],
   "source": [
    "sequence_length = 100\n",
    "dataset_paths = glob.glob('dataset\\*.ts')\n",
    "\n",
    "for path in dataset_paths:\n",
    "    # read data\n",
    "    X,y = load_from_tsfile(path)\n",
    "    # expand dim\n",
    "    data = preprocess_dgan(X,sequence_length)\n",
    "    # Map the labels to integers\n",
    "    label_to_int, int_to_label, y_int = map_label_int(y)\n",
    "    # train data generator and create synthetic data\n",
    "    data_generator(X, y, train_size)\n",
    "    # create synthetic dataset\n",
    "    train_dataloader, validation_dataloader = create_dataset(X,y,n_splits, validation_size)\n",
    "    # train the model over syn\n",
    "    \n",
    "    create_dataset(X,y,n_splits, validation_size)\n",
    "\n",
    "    \n"
   ]
  },
  {
   "cell_type": "code",
   "execution_count": 203,
   "metadata": {},
   "outputs": [
    {
     "data": {
      "text/plain": [
       "<matplotlib.legend.Legend at 0x27c5c9eb550>"
      ]
     },
     "execution_count": 203,
     "metadata": {},
     "output_type": "execute_result"
    },
    {
     "data": {
      "image/png": "[encoded data removed]",
      "text/plain": [
       "<Figure size 1500x600 with 1 Axes>"
      ]
     },
     "metadata": {},
     "output_type": "display_data"
    }
   ],
   "source": [
    "plt.figure(figsize=(15,6))\n",
    "plt.title('Original Data')\n",
    "plt.xlabel('Time')\n",
    "plt.ylabel('Amplitude')\n",
    "plt.hist(X[y == 3][9,:,1:3])\n",
    "plt.legend(['X','Y','Z'])"
   ]
  },
  {
   "cell_type": "code",
   "execution_count": 204,
   "metadata": {},
   "outputs": [
    {
     "data": {
      "text/plain": [
       "(array([[ 3.,  6., 10., 38., 29.,  6.,  4.,  2.,  2.,  0.],\n",
       "        [ 0.,  0.,  2.,  4., 11., 47., 24.,  6.,  2.,  4.]]),\n",
       " array([-0.21081465, -0.09910052,  0.01261363,  0.12432777,  0.23604192,\n",
       "         0.34775606,  0.45947021,  0.57118434,  0.68289846,  0.79461265,\n",
       "         0.90632677]),\n",
       " <a list of 2 BarContainer objects>)"
      ]
     },
     "execution_count": 204,
     "metadata": {},
     "output_type": "execute_result"
    },
    {
     "data": {
      "image/png": "[encoded data removed]",
      "text/plain": [
       "<Figure size 2000x1000 with 1 Axes>"
      ]
     },
     "metadata": {},
     "output_type": "display_data"
    }
   ],
   "source": [
    "#plot synthetic data\n",
    "plt.figure(figsize=(20,10))\n",
    "plt.title('Synthetic Data')\n",
    "plt.xlabel('Time')\n",
    "plt.ylabel('Amplitude')\n",
    "plt.hist(concatenated_data['X'][concatenated_data['y'] == 3][100,:,1:3])\n",
    "# plt.plot(concatenated_data['X'][concatenated_data['y'] == 1][11,:,3])\n",
    "\n",
    "# plt.legend(['X','Y','Z'])"
   ]
  }
 ],
 "metadata": {
  "kernelspec": {
   "display_name": "FinalVenv",
   "language": "python",
   "name": "python3"
  },
  "language_info": {
   "codemirror_mode": {
    "name": "ipython",
    "version": 3
   },
   "file_extension": ".py",
   "mimetype": "text/x-python",
   "name": "python",
   "nbconvert_exporter": "python",
   "pygments_lexer": "ipython3",
   "version": "3.10.11"
  },
  "orig_nbformat": 4,
  "vscode": {
   "interpreter": {
    "hash": "31c4b883b398d3359910837fe640ccf591969e076e98c80af6519ee91f033179"
   }
  }
 },
 "nbformat": 4,
 "nbformat_minor": 2
}
